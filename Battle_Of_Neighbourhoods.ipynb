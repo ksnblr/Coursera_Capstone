{
    "nbformat_minor": 1, 
    "cells": [
        {
            "source": "# Description of the problem and a Discussion of the background", 
            "cell_type": "markdown", 
            "metadata": {
                "collapsed": true
            }
        }, 
        {
            "source": "Famous Indian restaurant in Newyork is planning to open their branch in Toronto. They approached us to find a best location in Toronto where the branch can be opened. As Toronto already got many Indian restaurant, it's very important to find a spot which is \n\n* Similar to the current location in Newyork\n* Not having much Indian restaurants", 
            "cell_type": "markdown", 
            "metadata": {}
        }, 
        {
            "source": "# Description of the data and How it will be used to solve the problem", 
            "cell_type": "markdown", 
            "metadata": {}
        }, 
        {
            "source": "Newyork data will be downloaded from the following site and cleanedup for this project. \n\nhttps://cocl.us/new_york_dataset\n\nFor Toronto, web scrapping will be done to extract the data from the following site\n\nhttps://en.wikipedia.org/wiki/List_of_postal_codes_of_Canada:_M\n\nOnce we have the data available, the following approach will be used to solve the problem\n\n* Toronto data will be used first to assess the current restaurant location and the amenities available within 500 meters and set this as a base line for the future location in Newyork\n* With the help of Newyork data, we will come up with nice neighbourhoods which is quite similar with the current Toronto neighborhood, but not infested much with Indian restaurants.\n* Foursquare data will be used for segmentation and KClustering will be used to bucket the neighbourhood which shows similar behaviour\n\nOnce the analysis is carried out, the report will be generated and provided to the client with the following information.\n\nBest top 3 locations in Newyork which shows quite similar structure to current restaurant location in Toronto, but not having more Indian restaurants in those locations, which is a must criteria from the client for this new location selection", 
            "cell_type": "markdown", 
            "metadata": {}
        }, 
        {
            "source": "", 
            "cell_type": "code", 
            "metadata": {}, 
            "outputs": [], 
            "execution_count": null
        }
    ], 
    "metadata": {
        "kernelspec": {
            "display_name": "Python 3.5", 
            "name": "python3", 
            "language": "python"
        }, 
        "language_info": {
            "mimetype": "text/x-python", 
            "nbconvert_exporter": "python", 
            "version": "3.5.5", 
            "name": "python", 
            "pygments_lexer": "ipython3", 
            "file_extension": ".py", 
            "codemirror_mode": {
                "version": 3, 
                "name": "ipython"
            }
        }
    }, 
    "nbformat": 4
}
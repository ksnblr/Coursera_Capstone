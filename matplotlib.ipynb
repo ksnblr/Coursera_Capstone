{
    "nbformat_minor": 1, 
    "cells": [
        {
            "source": "import matplotlib.pyplot as plt\n%matplotlib inline\nfrom numpy.random import randn", 
            "cell_type": "code", 
            "metadata": {}, 
            "outputs": [], 
            "execution_count": 11
        }, 
        {
            "source": "# Histogram", 
            "cell_type": "markdown", 
            "metadata": {}
        }, 
        {
            "source": "dataset = randn(100)\nplt.hist(dataset)", 
            "cell_type": "code", 
            "metadata": {}, 
            "outputs": [
                {
                    "output_type": "execute_result", 
                    "data": {
                        "text/plain": "(array([  4.,   1.,  14.,  24.,  16.,  13.,  14.,   9.,   2.,   3.]),\n array([-2.23402463, -1.751754  , -1.26948336, -0.78721273, -0.3049421 ,\n         0.17732853,  0.65959917,  1.1418698 ,  1.62414043,  2.10641106,\n         2.5886817 ]),\n <a list of 10 Patch objects>)"
                    }, 
                    "execution_count": 17, 
                    "metadata": {}
                }, 
                {
                    "output_type": "display_data", 
                    "data": {
                        "image/png": "[encoded data removed]", 
                        "text/plain": "<matplotlib.figure.Figure at 0x7f38aa329fd0>"
                    }, 
                    "metadata": {}
                }
            ], 
            "execution_count": 17
        }, 
        {
            "source": "", 
            "cell_type": "code", 
            "metadata": {}, 
            "outputs": [], 
            "execution_count": null
        }
    ], 
    "metadata": {
        "kernelspec": {
            "display_name": "Python 3.5", 
            "name": "python3", 
            "language": "python"
        }, 
        "language_info": {
            "mimetype": "text/x-python", 
            "nbconvert_exporter": "python", 
            "version": "3.5.5", 
            "name": "python", 
            "file_extension": ".py", 
            "pygments_lexer": "ipython3", 
            "codemirror_mode": {
                "version": 3, 
                "name": "ipython"
            }
        }
    }, 
    "nbformat": 4
}